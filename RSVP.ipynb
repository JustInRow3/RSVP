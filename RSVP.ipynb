{
 "cells": [
  {
   "cell_type": "code",
   "execution_count": 1,
   "id": "c3bb5665",
   "metadata": {
    "scrolled": true
   },
   "outputs": [],
   "source": [
    "import pickle\n",
    "import os.path\n",
    "from google_auth_oauthlib.flow import InstalledAppFlow\n",
    "from google.auth.transport.requests import Request\n",
    "def gsheet_api_check(SCOPES):\n",
    "    creds = None\n",
    "    if os.path.exists('token.pickle'):\n",
    "        with open('token.pickle', 'rb') as token:\n",
    "            creds = pickle.load(token)\n",
    "    if not creds or not creds.valid:\n",
    "        if creds and creds.expired and creds.refresh_token:\n",
    "            creds.refresh(Request())\n",
    "        else:\n",
    "            flow = InstalledAppFlow.from_client_secrets_file(\n",
    "                'credentials.json', SCOPES)\n",
    "            creds = flow.run_local_server(port=0)\n",
    "        with open('token.pickle', 'wb') as token:\n",
    "            pickle.dump(creds, token)\n",
    "    return creds"
   ]
  },
  {
   "cell_type": "code",
   "execution_count": 2,
   "id": "87ddfd86",
   "metadata": {},
   "outputs": [],
   "source": [
    "from googleapiclient.discovery import build\n",
    "def pull_sheet_data(SCOPES,SPREADSHEET_ID,DATA_TO_PULL):\n",
    "    creds = gsheet_api_check(SCOPES)\n",
    "    service = build('sheets', 'v4', credentials=creds)\n",
    "    sheet = service.spreadsheets()\n",
    "    result = sheet.values().get(\n",
    "        spreadsheetId=SPREADSHEET_ID,\n",
    "        range=DATA_TO_PULL).execute()\n",
    "    values = result.get('values', [])\n",
    "    \n",
    "    if not values:\n",
    "        print('No data found.')\n",
    "    else:\n",
    "        rows = sheet.values().get(spreadsheetId=SPREADSHEET_ID,\n",
    "                                  range=DATA_TO_PULL).execute()\n",
    "        data = rows.get('values')\n",
    "        print(\"COMPLETE: Data copied\")\n",
    "        return data\n"
   ]
  },
  {
   "cell_type": "code",
   "execution_count": 3,
   "id": "b7068a68",
   "metadata": {},
   "outputs": [
    {
     "ename": "RefreshError",
     "evalue": "('invalid_grant: Bad Request', {'error': 'invalid_grant', 'error_description': 'Bad Request'})",
     "output_type": "error",
     "traceback": [
      "\u001b[1;31m---------------------------------------------------------------------------\u001b[0m",
      "\u001b[1;31mRefreshError\u001b[0m                              Traceback (most recent call last)",
      "Input \u001b[1;32mIn [3]\u001b[0m, in \u001b[0;36m<cell line: 5>\u001b[1;34m()\u001b[0m\n\u001b[0;32m      3\u001b[0m SPREADSHEET_ID \u001b[38;5;241m=\u001b[39m \u001b[38;5;124m'\u001b[39m\u001b[38;5;124m1DCHfy9S5AZmtE-cCwkRyMWxh0iAtEz5Lgw6o6QSqFdE\u001b[39m\u001b[38;5;124m'\u001b[39m\n\u001b[0;32m      4\u001b[0m DATA_TO_PULL \u001b[38;5;241m=\u001b[39m \u001b[38;5;124m'\u001b[39m\u001b[38;5;124mForm Responses\u001b[39m\u001b[38;5;124m'\u001b[39m\n\u001b[1;32m----> 5\u001b[0m data \u001b[38;5;241m=\u001b[39m \u001b[43mpull_sheet_data\u001b[49m\u001b[43m(\u001b[49m\u001b[43mSCOPES\u001b[49m\u001b[43m,\u001b[49m\u001b[43mSPREADSHEET_ID\u001b[49m\u001b[43m,\u001b[49m\u001b[43mDATA_TO_PULL\u001b[49m\u001b[43m)\u001b[49m\n\u001b[0;32m      6\u001b[0m df \u001b[38;5;241m=\u001b[39m pd\u001b[38;5;241m.\u001b[39mDataFrame(data[\u001b[38;5;241m1\u001b[39m:], columns \u001b[38;5;241m=\u001b[39m data[\u001b[38;5;241m0\u001b[39m])\n\u001b[0;32m      7\u001b[0m df\n",
      "Input \u001b[1;32mIn [2]\u001b[0m, in \u001b[0;36mpull_sheet_data\u001b[1;34m(SCOPES, SPREADSHEET_ID, DATA_TO_PULL)\u001b[0m\n\u001b[0;32m      2\u001b[0m \u001b[38;5;28;01mdef\u001b[39;00m \u001b[38;5;21mpull_sheet_data\u001b[39m(SCOPES,SPREADSHEET_ID,DATA_TO_PULL):\n\u001b[1;32m----> 3\u001b[0m     creds \u001b[38;5;241m=\u001b[39m \u001b[43mgsheet_api_check\u001b[49m\u001b[43m(\u001b[49m\u001b[43mSCOPES\u001b[49m\u001b[43m)\u001b[49m\n\u001b[0;32m      4\u001b[0m     service \u001b[38;5;241m=\u001b[39m build(\u001b[38;5;124m'\u001b[39m\u001b[38;5;124msheets\u001b[39m\u001b[38;5;124m'\u001b[39m, \u001b[38;5;124m'\u001b[39m\u001b[38;5;124mv4\u001b[39m\u001b[38;5;124m'\u001b[39m, credentials\u001b[38;5;241m=\u001b[39mcreds)\n\u001b[0;32m      5\u001b[0m     sheet \u001b[38;5;241m=\u001b[39m service\u001b[38;5;241m.\u001b[39mspreadsheets()\n",
      "Input \u001b[1;32mIn [1]\u001b[0m, in \u001b[0;36mgsheet_api_check\u001b[1;34m(SCOPES)\u001b[0m\n\u001b[0;32m     10\u001b[0m \u001b[38;5;28;01mif\u001b[39;00m \u001b[38;5;129;01mnot\u001b[39;00m creds \u001b[38;5;129;01mor\u001b[39;00m \u001b[38;5;129;01mnot\u001b[39;00m creds\u001b[38;5;241m.\u001b[39mvalid:\n\u001b[0;32m     11\u001b[0m     \u001b[38;5;28;01mif\u001b[39;00m creds \u001b[38;5;129;01mand\u001b[39;00m creds\u001b[38;5;241m.\u001b[39mexpired \u001b[38;5;129;01mand\u001b[39;00m creds\u001b[38;5;241m.\u001b[39mrefresh_token:\n\u001b[1;32m---> 12\u001b[0m         \u001b[43mcreds\u001b[49m\u001b[38;5;241;43m.\u001b[39;49m\u001b[43mrefresh\u001b[49m\u001b[43m(\u001b[49m\u001b[43mRequest\u001b[49m\u001b[43m(\u001b[49m\u001b[43m)\u001b[49m\u001b[43m)\u001b[49m\n\u001b[0;32m     13\u001b[0m     \u001b[38;5;28;01melse\u001b[39;00m:\n\u001b[0;32m     14\u001b[0m         flow \u001b[38;5;241m=\u001b[39m InstalledAppFlow\u001b[38;5;241m.\u001b[39mfrom_client_secrets_file(\n\u001b[0;32m     15\u001b[0m             \u001b[38;5;124m'\u001b[39m\u001b[38;5;124mcredentials.json\u001b[39m\u001b[38;5;124m'\u001b[39m, SCOPES)\n",
      "File \u001b[1;32mC:\\ProgramData\\Anaconda3\\lib\\site-packages\\google\\oauth2\\credentials.py:228\u001b[0m, in \u001b[0;36mCredentials.refresh\u001b[1;34m(self, request)\u001b[0m\n\u001b[0;32m    214\u001b[0m     \u001b[38;5;28;01mraise\u001b[39;00m exceptions\u001b[38;5;241m.\u001b[39mRefreshError(\n\u001b[0;32m    215\u001b[0m         \u001b[38;5;124m\"\u001b[39m\u001b[38;5;124mThe credentials do not contain the necessary fields need to \u001b[39m\u001b[38;5;124m\"\u001b[39m\n\u001b[0;32m    216\u001b[0m         \u001b[38;5;124m\"\u001b[39m\u001b[38;5;124mrefresh the access token. You must specify refresh_token, \u001b[39m\u001b[38;5;124m\"\u001b[39m\n\u001b[0;32m    217\u001b[0m         \u001b[38;5;124m\"\u001b[39m\u001b[38;5;124mtoken_uri, client_id, and client_secret.\u001b[39m\u001b[38;5;124m\"\u001b[39m\n\u001b[0;32m    218\u001b[0m     )\n\u001b[0;32m    220\u001b[0m scopes \u001b[38;5;241m=\u001b[39m \u001b[38;5;28mself\u001b[39m\u001b[38;5;241m.\u001b[39m_scopes \u001b[38;5;28;01mif\u001b[39;00m \u001b[38;5;28mself\u001b[39m\u001b[38;5;241m.\u001b[39m_scopes \u001b[38;5;129;01mis\u001b[39;00m \u001b[38;5;129;01mnot\u001b[39;00m \u001b[38;5;28;01mNone\u001b[39;00m \u001b[38;5;28;01melse\u001b[39;00m \u001b[38;5;28mself\u001b[39m\u001b[38;5;241m.\u001b[39m_default_scopes\n\u001b[0;32m    222\u001b[0m (\n\u001b[0;32m    223\u001b[0m     access_token,\n\u001b[0;32m    224\u001b[0m     refresh_token,\n\u001b[0;32m    225\u001b[0m     expiry,\n\u001b[0;32m    226\u001b[0m     grant_response,\n\u001b[0;32m    227\u001b[0m     rapt_token,\n\u001b[1;32m--> 228\u001b[0m ) \u001b[38;5;241m=\u001b[39m \u001b[43mreauth\u001b[49m\u001b[38;5;241;43m.\u001b[39;49m\u001b[43mrefresh_grant\u001b[49m\u001b[43m(\u001b[49m\n\u001b[0;32m    229\u001b[0m \u001b[43m    \u001b[49m\u001b[43mrequest\u001b[49m\u001b[43m,\u001b[49m\n\u001b[0;32m    230\u001b[0m \u001b[43m    \u001b[49m\u001b[38;5;28;43mself\u001b[39;49m\u001b[38;5;241;43m.\u001b[39;49m\u001b[43m_token_uri\u001b[49m\u001b[43m,\u001b[49m\n\u001b[0;32m    231\u001b[0m \u001b[43m    \u001b[49m\u001b[38;5;28;43mself\u001b[39;49m\u001b[38;5;241;43m.\u001b[39;49m\u001b[43m_refresh_token\u001b[49m\u001b[43m,\u001b[49m\n\u001b[0;32m    232\u001b[0m \u001b[43m    \u001b[49m\u001b[38;5;28;43mself\u001b[39;49m\u001b[38;5;241;43m.\u001b[39;49m\u001b[43m_client_id\u001b[49m\u001b[43m,\u001b[49m\n\u001b[0;32m    233\u001b[0m \u001b[43m    \u001b[49m\u001b[38;5;28;43mself\u001b[39;49m\u001b[38;5;241;43m.\u001b[39;49m\u001b[43m_client_secret\u001b[49m\u001b[43m,\u001b[49m\n\u001b[0;32m    234\u001b[0m \u001b[43m    \u001b[49m\u001b[43mscopes\u001b[49m\u001b[38;5;241;43m=\u001b[39;49m\u001b[43mscopes\u001b[49m\u001b[43m,\u001b[49m\n\u001b[0;32m    235\u001b[0m \u001b[43m    \u001b[49m\u001b[43mrapt_token\u001b[49m\u001b[38;5;241;43m=\u001b[39;49m\u001b[38;5;28;43mself\u001b[39;49m\u001b[38;5;241;43m.\u001b[39;49m\u001b[43m_rapt_token\u001b[49m\u001b[43m,\u001b[49m\n\u001b[0;32m    236\u001b[0m \u001b[43m\u001b[49m\u001b[43m)\u001b[49m\n\u001b[0;32m    238\u001b[0m \u001b[38;5;28mself\u001b[39m\u001b[38;5;241m.\u001b[39mtoken \u001b[38;5;241m=\u001b[39m access_token\n\u001b[0;32m    239\u001b[0m \u001b[38;5;28mself\u001b[39m\u001b[38;5;241m.\u001b[39mexpiry \u001b[38;5;241m=\u001b[39m expiry\n",
      "File \u001b[1;32mC:\\ProgramData\\Anaconda3\\lib\\site-packages\\google\\oauth2\\reauth.py:338\u001b[0m, in \u001b[0;36mrefresh_grant\u001b[1;34m(request, token_uri, refresh_token, client_id, client_secret, scopes, rapt_token)\u001b[0m\n\u001b[0;32m    333\u001b[0m     (response_status_ok, response_data) \u001b[38;5;241m=\u001b[39m _client\u001b[38;5;241m.\u001b[39m_token_endpoint_request_no_throw(\n\u001b[0;32m    334\u001b[0m         request, token_uri, body\n\u001b[0;32m    335\u001b[0m     )\n\u001b[0;32m    337\u001b[0m \u001b[38;5;28;01mif\u001b[39;00m \u001b[38;5;129;01mnot\u001b[39;00m response_status_ok:\n\u001b[1;32m--> 338\u001b[0m     \u001b[43m_client\u001b[49m\u001b[38;5;241;43m.\u001b[39;49m\u001b[43m_handle_error_response\u001b[49m\u001b[43m(\u001b[49m\u001b[43mresponse_data\u001b[49m\u001b[43m)\u001b[49m\n\u001b[0;32m    339\u001b[0m \u001b[38;5;28;01mreturn\u001b[39;00m _client\u001b[38;5;241m.\u001b[39m_handle_refresh_grant_response(response_data, refresh_token) \u001b[38;5;241m+\u001b[39m (\n\u001b[0;32m    340\u001b[0m     rapt_token,\n\u001b[0;32m    341\u001b[0m )\n",
      "File \u001b[1;32mC:\\ProgramData\\Anaconda3\\lib\\site-packages\\google\\oauth2\\_client.py:60\u001b[0m, in \u001b[0;36m_handle_error_response\u001b[1;34m(response_data)\u001b[0m\n\u001b[0;32m     57\u001b[0m \u001b[38;5;28;01mexcept\u001b[39;00m (\u001b[38;5;167;01mKeyError\u001b[39;00m, \u001b[38;5;167;01mValueError\u001b[39;00m):\n\u001b[0;32m     58\u001b[0m     error_details \u001b[38;5;241m=\u001b[39m json\u001b[38;5;241m.\u001b[39mdumps(response_data)\n\u001b[1;32m---> 60\u001b[0m \u001b[38;5;28;01mraise\u001b[39;00m exceptions\u001b[38;5;241m.\u001b[39mRefreshError(error_details, response_data)\n",
      "\u001b[1;31mRefreshError\u001b[0m: ('invalid_grant: Bad Request', {'error': 'invalid_grant', 'error_description': 'Bad Request'})"
     ]
    }
   ],
   "source": [
    "import pandas as pd\n",
    "SCOPES = ['https://www.googleapis.com/auth/spreadsheets']\n",
    "SPREADSHEET_ID = '1DCHfy9S5AZmtE-cCwkRyMWxh0iAtEz5Lgw6o6QSqFdE'\n",
    "DATA_TO_PULL = 'Form Responses'\n",
    "data = pull_sheet_data(SCOPES,SPREADSHEET_ID,DATA_TO_PULL)\n",
    "df = pd.DataFrame(data[1:], columns = data[0])\n",
    "df"
   ]
  },
  {
   "cell_type": "code",
   "execution_count": null,
   "id": "3ef4d67b",
   "metadata": {},
   "outputs": [],
   "source": [
    "import numpy as np\n",
    "df=df.replace(\"\", np.nan)\n"
   ]
  },
  {
   "cell_type": "code",
   "execution_count": null,
   "id": "1764df0b",
   "metadata": {},
   "outputs": [],
   "source": [
    "df['Submission Date'] = pd.to_datetime(df['Submission Date'])\n",
    "df = df.sort_values(by=['Submission Date'])\n",
    "\n",
    "# remove duplicates, keeping last entry (most recent entry)\n",
    "df = df.drop_duplicates(subset=['First Name', 'Last Name'], keep='last')\n",
    "df"
   ]
  },
  {
   "cell_type": "code",
   "execution_count": null,
   "id": "129e28fa",
   "metadata": {},
   "outputs": [],
   "source": [
    "columns = ['Submission Date', 'Name', 'Yes', 'No', 'Comments or Questions']\n",
    "out = pd.DataFrame(columns=columns)"
   ]
  },
  {
   "cell_type": "code",
   "execution_count": null,
   "id": "0884deb2",
   "metadata": {
    "scrolled": true
   },
   "outputs": [],
   "source": [
    "cnt = 0\n",
    "# loop over each submission\n",
    "for i, row in df.iterrows():\n",
    "    submitter = str(row[1]).title() + \" \" + str(row[2]).title()\n",
    "    for col in columns:\n",
    "        if col in row:\n",
    "            out.loc[cnt, col] = row[col]\n",
    "        if row[4] == 'Yes':\n",
    "            out.loc[cnt, 'Yes'] = row[3]\n",
    "        else:\n",
    "            out.loc[cnt, 'No'] = row[3]\n",
    "    out.loc[cnt, 'Name'] = submitter\n",
    "    cnt +=1\n",
    "out"
   ]
  },
  {
   "cell_type": "code",
   "execution_count": null,
   "id": "21801f58",
   "metadata": {},
   "outputs": [],
   "source": [
    "import gspread\n",
    "import pandas as pd\n",
    "from oauth2client.service_account import ServiceAccountCredentials"
   ]
  },
  {
   "cell_type": "code",
   "execution_count": null,
   "id": "9ec5e968",
   "metadata": {
    "scrolled": true
   },
   "outputs": [],
   "source": [
    "from oauth2client.service_account import ServiceAccountCredentials\n",
    "import gspread\n",
    "import json\n",
    "scopes = [\n",
    "'https://www.googleapis.com/auth/spreadsheets',\n",
    "'https://www.googleapis.com/auth/drive'\n",
    "]\n",
    "credentials = ServiceAccountCredentials.from_json_keyfile_name(\"rsvp-365109-be34f987e91c.json\", scopes) #access the json key you downloaded earlier \n",
    "file = gspread.authorize(credentials) # authenticate the JSON key with gspread\n",
    "sheet = file.open(\"JustineXMin\")  #open sheet\n"
   ]
  },
  {
   "cell_type": "code",
   "execution_count": null,
   "id": "dd659451",
   "metadata": {},
   "outputs": [],
   "source": [
    "# get the first sheet of the Spreadsheet\n",
    "sheet_instance = sheet.get_worksheet(1)\n",
    "out.fillna(value=\"\")\n",
    "out"
   ]
  },
  {
   "cell_type": "code",
   "execution_count": null,
   "id": "23b7fce8",
   "metadata": {
    "scrolled": true
   },
   "outputs": [],
   "source": [
    "sheet_instance.update_acell('A1', 'WARNING DO NOT EDIT: THIS IS AUTOMATICALLY GENERATED')"
   ]
  },
  {
   "cell_type": "code",
   "execution_count": null,
   "id": "c7e7d672",
   "metadata": {
    "scrolled": false
   },
   "outputs": [],
   "source": [
    "out['Yes'] = out['Yes'].fillna(0).astype(int)\n",
    "yes_total = out['Yes'].sum()\n",
    "out['No'] = out['No'].fillna(0).astype(int)\n",
    "no_total = out['No'].sum()\n",
    "out = out.fillna(value=\"\")\n",
    "out['Submission Date'] = out['Submission Date'].astype(str)\n",
    "sheet_instance.update('A6', out.values.tolist())"
   ]
  },
  {
   "cell_type": "code",
   "execution_count": null,
   "id": "a3e81e3e",
   "metadata": {},
   "outputs": [],
   "source": [
    " # add totals to sheet\n",
    "sheet_instance.update_acell('B3', 'Yes')\n",
    "sheet_instance.update_acell('C3', 'No')\n",
    "sheet_instance.update_acell('A4', 'Totals')\n",
    "sheet_instance.update_acell('B4', '%d' %yes_total)\n",
    "sheet_instance.update_acell('C4', '%d' %no_total)"
   ]
  },
  {
   "cell_type": "code",
   "execution_count": null,
   "id": "9e29dcac",
   "metadata": {
    "scrolled": true
   },
   "outputs": [],
   "source": [
    "import pandas as pd\n",
    "SCOPES = ['https://www.googleapis.com/auth/spreadsheets']\n",
    "SPREADSHEET_ID = '1DCHfy9S5AZmtE-cCwkRyMWxh0iAtEz5Lgw6o6QSqFdE'\n",
    "DATA_TO_PULL = 'ExpectedVsActual'\n",
    "data = pull_sheet_data(SCOPES,SPREADSHEET_ID,DATA_TO_PULL)\n",
    "df = pd.DataFrame(data).T\n",
    "df = df[:8].T\n",
    "df = df[1:]\n",
    "df[0] = df[[0, 1]].apply(\" \".join, axis=1)\n",
    "df"
   ]
  },
  {
   "cell_type": "code",
   "execution_count": null,
   "id": "f4628f13",
   "metadata": {
    "scrolled": true
   },
   "outputs": [],
   "source": [
    "invite_first = df[0].apply(lambda x: x.lower().replace(\" \", \"\"))\n",
    "print(out)"
   ]
  },
  {
   "cell_type": "code",
   "execution_count": null,
   "id": "052729f0",
   "metadata": {},
   "outputs": [],
   "source": [
    "ws = sheet.get_worksheet(2)\n",
    "ws"
   ]
  },
  {
   "cell_type": "code",
   "execution_count": null,
   "id": "12afc1f6",
   "metadata": {
    "scrolled": true
   },
   "outputs": [],
   "source": [
    "for i, row in out.iterrows():\n",
    "    index = invite_first == row['Name'].lower().replace(\" \", \"\")\n",
    "    if index.sum()==1:      \n",
    "        cellans = (str('G')+str(2 + np.where(df[0]==row['Name'])[0][0]))\n",
    "        cellkawn = (str('H')+str(2 + np.where(df[0]==row['Name'])[0][0]))\n",
    "        ans = 'Yes' if row['Yes'] != 0 else 'No'\n",
    "        kawnt = row['Yes'] if row['Yes'] != 0 else row['No']\n",
    "        ws.update_acell(cellans, ans)\n",
    "        ws.update_acell(cellkawn, kawnt)\n",
    "    elif index.sum() == 0:\n",
    "        print(\"warning: %s submission has no match in invite list\" %(row['Name']))\n",
    "\n",
    "    # multiple matches!\n",
    "    else:\n",
    "        print(\"warning: %s has multiple match on invite list\" %(row['Name']))\n"
   ]
  },
  {
   "cell_type": "code",
   "execution_count": null,
   "id": "342ed7cf",
   "metadata": {},
   "outputs": [],
   "source": [
    "yes_total = ws.acell('M6').value\n",
    "no_total = ws.acell('N6').value\n",
    "print(\"Total YES RSVPS: %s\" %yes_total)\n",
    "print(\"Total NO RSVPS: %s\" %no_total)"
   ]
  },
  {
   "cell_type": "code",
   "execution_count": null,
   "id": "a781edbe",
   "metadata": {},
   "outputs": [],
   "source": []
  }
 ],
 "metadata": {
  "kernelspec": {
   "display_name": "Python 3 (ipykernel)",
   "language": "python",
   "name": "python3"
  },
  "language_info": {
   "codemirror_mode": {
    "name": "ipython",
    "version": 3
   },
   "file_extension": ".py",
   "mimetype": "text/x-python",
   "name": "python",
   "nbconvert_exporter": "python",
   "pygments_lexer": "ipython3",
   "version": "3.9.12"
  }
 },
 "nbformat": 4,
 "nbformat_minor": 5
}
